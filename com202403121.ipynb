{
  "nbformat": 4,
  "nbformat_minor": 0,
  "metadata": {
    "colab": {
      "provenance": [],
      "authorship_tag": "ABX9TyNmkQtrJ76w9wjaD3JpiCiF",
      "include_colab_link": true
    },
    "kernelspec": {
      "name": "python3",
      "display_name": "Python 3"
    },
    "language_info": {
      "name": "python"
    }
  },
  "cells": [
    {
      "cell_type": "markdown",
      "metadata": {
        "id": "view-in-github",
        "colab_type": "text"
      },
      "source": [
        "<a href=\"https://colab.research.google.com/github/dinkumar14/data/blob/master/com202403121.ipynb\" target=\"_parent\"><img src=\"https://colab.research.google.com/assets/colab-badge.svg\" alt=\"Open In Colab\"/></a>"
      ]
    },
    {
      "cell_type": "code",
      "execution_count": 15,
      "metadata": {
        "colab": {
          "base_uri": "https://localhost:8080/"
        },
        "id": "cLbXxSHHuxoy",
        "outputId": "001436ef-4ca8-42d5-ccb8-da045f200819"
      },
      "outputs": [
        {
          "output_type": "stream",
          "name": "stdout",
          "text": [
            "Requirement already satisfied: fuzzywuzzy in /usr/local/lib/python3.10/dist-packages (0.18.0)\n",
            "Requirement already satisfied: python-Levenshtein in /usr/local/lib/python3.10/dist-packages (0.25.0)\n",
            "Requirement already satisfied: Levenshtein==0.25.0 in /usr/local/lib/python3.10/dist-packages (from python-Levenshtein) (0.25.0)\n",
            "Requirement already satisfied: rapidfuzz<4.0.0,>=3.1.0 in /usr/local/lib/python3.10/dist-packages (from Levenshtein==0.25.0->python-Levenshtein) (3.6.2)\n",
            "Target String: Company t\n",
            "Matching Strings (Threshold: 40%):\n",
            "Company s\n",
            "Company t\n",
            "Company a\n",
            "Company t\n",
            "Company a\n",
            "Company t\n"
          ]
        }
      ],
      "source": [
        "!pip install fuzzywuzzy\n",
        "!pip install python-Levenshtein\n",
        "\n",
        "from fuzzywuzzy import fuzz\n",
        "from fuzzywuzzy import process\n",
        "def read_file(filepath):\n",
        "    \"\"\"Reads a file and returns its content as a list of lines.\"\"\"\n",
        "    with open(filepath, 'r') as file:\n",
        "        return file.read().splitlines()\n",
        "\n",
        "def find_matches(source_file, target_file, threshold=40):\n",
        "    \"\"\"Finds and prints strings from the source that match the target string by at least the given threshold.\"\"\"\n",
        "    source_strings = read_file(source_file)\n",
        "    target_string = read_file(target_file)[0]  # Assuming only one target string\n",
        "\n",
        "    print(f\"Target String: {target_string}\\nMatching Strings (Threshold: {threshold}%):\")\n",
        "    for s in source_strings:\n",
        "        if fuzz.ratio(s, target_string) >= threshold:\n",
        "            print(s)\n",
        "            print(target_string)\n",
        "\n",
        "\n",
        "# Specify your file paths here\n",
        "source_file_path = '/content/source1.txt'  # Adjust this to your source file\n",
        "target_file_path = '/content/target1.txt'  # Adjust this to your target file\n",
        "\n",
        "find_matches(source_file_path, target_file_path)"
      ]
    }
  ]
}